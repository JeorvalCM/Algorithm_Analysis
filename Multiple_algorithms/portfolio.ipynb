{
 "cells": [
  {
   "cell_type": "markdown",
   "metadata": {},
   "source": [
    "# Team\n",
    "* Cano Morales Jeorval\n",
    "* Cuevas Mendez Danilo\n",
    "* Erosa Herrera Jorge\n",
    "* Luna Estevez Saúl\n",
    "* Robles García Jack "
   ]
  },
  {
   "cell_type": "markdown",
   "metadata": {},
   "source": [
    "# Divide amd Conquer"
   ]
  },
  {
   "cell_type": "markdown",
   "metadata": {},
   "source": [
    "## Matrix multiplication classic method"
   ]
  },
  {
   "cell_type": "markdown",
   "metadata": {},
   "source": [
    "### Pseudocode "
   ]
  },
  {
   "cell_type": "markdown",
   "metadata": {},
   "source": [
    "```\n",
    "MatrixMult(A,B):\n",
    "    //A and B are two matrix \n",
    "    //the function return the matrix product of A and B\n",
    "    n = A.lenght\n",
    "    for i <- 0 to n - 1 do\n",
    "        for j <- to n - 1 do\n",
    "            C[i,j] <- 0\n",
    "            for k <- to n - 1 do\n",
    "                C[i,j] <- C[i,j] + A[i,k] * B[k,j]\n",
    "                \n",
    "   return C\n",
    "```"
   ]
  },
  {
   "cell_type": "markdown",
   "metadata": {},
   "source": [
    "### code and instances"
   ]
  },
  {
   "cell_type": "code",
   "execution_count": 4,
   "metadata": {},
   "outputs": [],
   "source": [
    "def MatrixMult(a, b):\n",
    "    \"\"\"\n",
    "    Function to multiply two matrix\n",
    "    Input are two matrix and the output is the resultant matrix \n",
    "    \"\"\"\n",
    "    if len(a[0]) != len(b):\n",
    "        print(\"The multiplication cannot be apply\")\n",
    "        return\n",
    "    matrix = [[0 for i in range(len(b[0]))] for j in range(len(a))]\n",
    "    #loops to apply the multiplication\n",
    "    for i in range(len(a)):\n",
    "        for j in range(len(b[0])):\n",
    "            for l in range(len(b)):\n",
    "                matrix[i][j] += a[i][l] * b[l][j]\n",
    "    for i in matrix:\n",
    "        print(i)\n",
    "    return matrix \n",
    "                "
   ]
  },
  {
   "cell_type": "code",
   "execution_count": 5,
   "metadata": {},
   "outputs": [],
   "source": [
    "A = [[1,0,2,1],[4,1,1,0],[0,1,3,0],[5,0,2,1]]\n",
    "B = [[0,1,0,1],[2,1,0,4],[2,0,1,1],[1,3,5,0]]\n",
    "C = [[i for i in range(1,5)] for j in range(1,5)]\n",
    "D = [[i for i in range(1,5)] for j in range(1,5)]"
   ]
  },
  {
   "cell_type": "code",
   "execution_count": 6,
   "metadata": {},
   "outputs": [
    {
     "name": "stdout",
     "output_type": "stream",
     "text": [
      "[5, 4, 7, 3]\n",
      "[4, 5, 1, 9]\n",
      "[8, 1, 3, 7]\n",
      "[5, 8, 7, 7]\n"
     ]
    },
    {
     "data": {
      "text/plain": [
       "[[5, 4, 7, 3], [4, 5, 1, 9], [8, 1, 3, 7], [5, 8, 7, 7]]"
      ]
     },
     "execution_count": 6,
     "metadata": {},
     "output_type": "execute_result"
    }
   ],
   "source": [
    "MatrixMult(A,B)"
   ]
  },
  {
   "cell_type": "code",
   "execution_count": 7,
   "metadata": {},
   "outputs": [
    {
     "name": "stdout",
     "output_type": "stream",
     "text": [
      "[10, 20, 30, 40]\n",
      "[10, 20, 30, 40]\n",
      "[10, 20, 30, 40]\n",
      "[10, 20, 30, 40]\n"
     ]
    },
    {
     "data": {
      "text/plain": [
       "[[10, 20, 30, 40], [10, 20, 30, 40], [10, 20, 30, 40], [10, 20, 30, 40]]"
      ]
     },
     "execution_count": 7,
     "metadata": {},
     "output_type": "execute_result"
    }
   ],
   "source": [
    "MatrixMult(C,D)"
   ]
  },
  {
   "cell_type": "markdown",
   "metadata": {},
   "source": [
    "### Running time(proof)"
   ]
  },
  {
   "cell_type": "markdown",
   "metadata": {},
   "source": [
    "<img src=\"imagenes/classic.jpg\">"
   ]
  },
  {
   "cell_type": "markdown",
   "metadata": {},
   "source": [
    "## Matrix multiplication divide and conquer method "
   ]
  },
  {
   "cell_type": "markdown",
   "metadata": {},
   "source": [
    "### Pseudocode"
   ]
  },
  {
   "cell_type": "markdown",
   "metadata": {},
   "source": [
    "```\n",
    "MatrixMultDC(A,B):\n",
    "    n = A.rows\n",
    "    let C be a matrix n * n dimension\n",
    "    if n = 1 then\n",
    "        return A * B\n",
    "    else\n",
    "    let us divide the matrix A and B into four submatrix each one of size n/2\n",
    "        C11 = MMult(A11,B11) + MMult(A12,B21)\n",
    "        C12 = MMult(A11,B12) + MMult(A12,B22)\n",
    "        C21 = MMult(A21,B11) + MMult(A22, B21)\n",
    "        C22 = MMult(A21,B12) + MMult(A22, B22)\n",
    "        \n",
    "    Return C\n",
    "```"
   ]
  },
  {
   "cell_type": "markdown",
   "metadata": {},
   "source": [
    "### Code and instances"
   ]
  },
  {
   "cell_type": "code",
   "execution_count": 5,
   "metadata": {},
   "outputs": [],
   "source": [
    "import numpy as np"
   ]
  },
  {
   "cell_type": "code",
   "execution_count": 75,
   "metadata": {},
   "outputs": [],
   "source": [
    "i = [0]\n",
    "def MMult(A,B):\n",
    "    i[0] = i[0]+1\n",
    "    print(i)\n",
    "    n = len(A)\n",
    "    A = np.matrix(A)\n",
    "    B = np.matrix(B)\n",
    "    #auxiliar matrix that will be the resultant\n",
    "    C = np.matrix([[0 for i in range(len(A))] for j in range(len(B))])\n",
    "    #base case\n",
    "    if n == 1:\n",
    "        return A * B\n",
    "    else: \n",
    "        #dividing the matrix into four sub matrix\n",
    "        size = int(n/2)\n",
    "        a11 = A[0:size,0:size]\n",
    "        a12 = A[0:size, size:]\n",
    "        a21 = A[size:, 0:size]\n",
    "        a22 = A[size:, size:]\n",
    "\n",
    "        b11 = B[0:size,0:size]\n",
    "        b12 = B[0:size, size:]\n",
    "        b21 = B[size:, 0:size]\n",
    "        b22 = B[size:, size:]\n",
    "        \n",
    "        \n",
    "        #applying divide and conquer\n",
    "        c11 = MMult(a11,b11) + MMult(a12,b21)\n",
    "        c12 = MMult(a11,b12) + MMult(a12,b22)\n",
    "        c21 = MMult(a21,b11) + MMult(a22, b21)\n",
    "        c22 = MMult(a21,b12) + MMult(a22, b22)\n",
    "        \n",
    "        \n",
    "        #getting the submatrix together\n",
    "        C[0:size,0:size] = c11\n",
    "        C[0:size, size:] = c12\n",
    "        C[size:, 0:size] = c21\n",
    "        C[size:, size:] = c22\n",
    "        \n",
    "        return C"
   ]
  },
  {
   "cell_type": "code",
   "execution_count": 76,
   "metadata": {},
   "outputs": [
    {
     "name": "stdout",
     "output_type": "stream",
     "text": [
      "[1]\n",
      "[2]\n",
      "[3]\n",
      "[4]\n",
      "[5]\n",
      "[6]\n",
      "[7]\n",
      "[8]\n",
      "[9]\n",
      "[10]\n",
      "[11]\n",
      "[12]\n",
      "[13]\n",
      "[14]\n",
      "[15]\n",
      "[16]\n",
      "[17]\n",
      "[18]\n",
      "[19]\n",
      "[20]\n",
      "[21]\n",
      "[22]\n",
      "[23]\n",
      "[24]\n",
      "[25]\n",
      "[26]\n",
      "[27]\n",
      "[28]\n",
      "[29]\n",
      "[30]\n",
      "[31]\n",
      "[32]\n",
      "[33]\n",
      "[34]\n",
      "[35]\n",
      "[36]\n",
      "[37]\n",
      "[38]\n",
      "[39]\n",
      "[40]\n",
      "[41]\n",
      "[42]\n",
      "[43]\n",
      "[44]\n",
      "[45]\n",
      "[46]\n",
      "[47]\n",
      "[48]\n",
      "[49]\n",
      "[50]\n",
      "[51]\n",
      "[52]\n",
      "[53]\n",
      "[54]\n",
      "[55]\n",
      "[56]\n",
      "[57]\n",
      "[58]\n",
      "[59]\n",
      "[60]\n",
      "[61]\n",
      "[62]\n",
      "[63]\n",
      "[64]\n",
      "[65]\n",
      "[66]\n",
      "[67]\n",
      "[68]\n",
      "[69]\n",
      "[70]\n",
      "[71]\n",
      "[72]\n",
      "[73]\n"
     ]
    },
    {
     "data": {
      "text/plain": [
       "matrix([[140, 132, 112, 160],\n",
       "        [208, 204, 208, 256],\n",
       "        [320, 312, 316, 392],\n",
       "        [496, 472, 436, 584]])"
      ]
     },
     "execution_count": 76,
     "metadata": {},
     "output_type": "execute_result"
    }
   ],
   "source": [
    "a = [\n",
    "    [2,2,6,4],\n",
    "    [8,6,4,8],\n",
    "    [12,10,6,12],\n",
    "    [12,14,14,16]\n",
    "    ]\n",
    "b = [\n",
    "    [2,2,6,4],\n",
    "    [8,6,4,8],\n",
    "    [12,10,6,12],\n",
    "    [12,14,14,16]\n",
    "    ]\n",
    "MMult(a,b)"
   ]
  },
  {
   "cell_type": "code",
   "execution_count": 54,
   "metadata": {},
   "outputs": [],
   "source": [
    "A = [[12, 7, 3,1], [4, 5, 6,1], [7, 8, 9,1],[1,2,3,4]] \n",
    " \n",
    "B = [[5, 8, 1, 2], [6, 7, 3, 0], [4, 5, 9, 1],[1,2,3,4]] "
   ]
  },
  {
   "cell_type": "code",
   "execution_count": 16,
   "metadata": {},
   "outputs": [
    {
     "name": "stdout",
     "output_type": "stream",
     "text": [
      "[[102]]\n",
      "[[13]]\n",
      "[[115 162]\n",
      " [ 75  99]]\n",
      "[[33]]\n",
      "[[30]]\n",
      "[[83]]\n",
      "[[37]]\n",
      "[[31]]\n",
      "[[84]]\n"
     ]
    },
    {
     "data": {
      "text/plain": [
       "matrix([[115, 162,  63,  31],\n",
       "        [ 75,  99,  76,  18],\n",
       "        [120, 159, 115,  27],\n",
       "        [ 33,  45,  46,  21]])"
      ]
     },
     "execution_count": 16,
     "metadata": {},
     "output_type": "execute_result"
    }
   ],
   "source": [
    "MMult(A,B)"
   ]
  },
  {
   "cell_type": "markdown",
   "metadata": {},
   "source": [
    "### Running time(proof)"
   ]
  },
  {
   "cell_type": "markdown",
   "metadata": {},
   "source": [
    "In the algorith we have 8 recursive calls and in each one we divide the matrix by 2 and getting all the submatrix togheter takes n* n, getting the submatrix together takes n^2 due to to do this the algorithm goes through an array of 2-D and each dimensions takes n times"
   ]
  },
  {
   "cell_type": "markdown",
   "metadata": {},
   "source": [
    "<img src=\"imagenes/divideMatrix.jpg\">"
   ]
  },
  {
   "cell_type": "markdown",
   "metadata": {},
   "source": [
    "## Matrix multiplication (strassen strategy)"
   ]
  },
  {
   "cell_type": "markdown",
   "metadata": {},
   "source": [
    "### pseudocode"
   ]
  },
  {
   "cell_type": "markdown",
   "metadata": {},
   "source": [
    "```\n",
    "StrassenMethod(A,B):\n",
    "    n = A.length\n",
    "    let C be a matrix n * n dimension\n",
    "    if n = 1 then\n",
    "        return A * B\n",
    "    else\n",
    "        let us divide the matrix A and B into four submatrix each one of size n/2\n",
    "        p1 = strassen(A11+A22, B11+B22)\n",
    "        p2 = strassen(A21 + A22, B11)\n",
    "        p3 = strassen(A11, B12 - B22)\n",
    "        p4 = strassen(A22, B21 - B11)\n",
    "        p5 = strassen(A11+A12,B22)\n",
    "        p6 = strassen(A21 - A11, B11 + B12)\n",
    "        p7 = strassen(A12 - A22, B21 + B22)\n",
    "        \n",
    "        C11 = p1 + p4  - p5 + p7\n",
    "        C12 = p3 + p5\n",
    "        C21 = p2 + p4\n",
    "        C22 = p1 - p2 + p3 + p6 \n",
    "        \n",
    "        return C\n",
    "```"
   ]
  },
  {
   "cell_type": "markdown",
   "metadata": {},
   "source": [
    "## Code and instances"
   ]
  },
  {
   "cell_type": "code",
   "execution_count": 12,
   "metadata": {},
   "outputs": [],
   "source": [
    "import numpy as np"
   ]
  },
  {
   "cell_type": "code",
   "execution_count": 18,
   "metadata": {},
   "outputs": [],
   "source": [
    "def strassen(A,B):\n",
    "    n = len(A)\n",
    "    A = np.matrix(A)\n",
    "    B = np.matrix(B)\n",
    "    #auxiliar matrix that will be the resultant\n",
    "    C = np.matrix([[0 for i in range(len(A))] for j in range(len(B))])\n",
    "    #base case, can be change to any 2^n\n",
    "    if n == 1:\n",
    "        return A * B  \n",
    "    else:\n",
    "        \n",
    "        #diving the matrixes into 4 sub matrices\n",
    "        size = int(n/2)\n",
    "        a11 = A[0:size,0:size]\n",
    "        a12 = A[0:size, size:]\n",
    "        a21 = A[size:, 0:size]\n",
    "        a22 = A[size:, size:]\n",
    "        \n",
    "        b11 = B[0:size,0:size]\n",
    "        b12 = B[0:size, size:]\n",
    "        b21 = B[size:, 0:size]\n",
    "        b22 = B[size:, size:]\n",
    "        \n",
    "        #applying divide and conquer\n",
    "        p1 = strassen(a11+a22, b11+b22)\n",
    "        print(\"p1: \",p1)\n",
    "        p2 = strassen(a21 + a22, b11)\n",
    "        print(\"p2: \",p2)\n",
    "        p3 = strassen(a11, b12 - b22)\n",
    "        print(\"p3: \",p3)\n",
    "        p4 = strassen(a22, b21 - b11)\n",
    "        print(\"p4: \",p4)\n",
    "        p5 = strassen(a11+a12,b22)\n",
    "        print(\"p5: \",p5)\n",
    "        p6 = strassen(a21 - a11, b11 + b12)\n",
    "        print(\"p6: \",p6)\n",
    "        p7 = strassen(a12 - a22, b21 + b22)\n",
    "        print(\"p7: \",p7)\n",
    "        \n",
    "        c11 = p1 + p4  - p5 + p7\n",
    "        c12 = p3 + p5\n",
    "        c21 = p2 + p4\n",
    "        c22 = p1 - p2 + p3 + p6 \n",
    "        \n",
    "        print(\"c11: \",c11)\n",
    "        print(\"c12: \", c12)\n",
    "        print(\"c21: \", c21)\n",
    "        print(\"c22; \", c22)\n",
    "        \n",
    "        #getting the matrix together\n",
    "        C[0:size,0:size] = c11\n",
    "        C[0:size, size:] = c12\n",
    "        C[size:, 0:size] = c21\n",
    "        C[size:, size:] = c22\n",
    "        return C"
   ]
  },
  {
   "cell_type": "code",
   "execution_count": 19,
   "metadata": {},
   "outputs": [],
   "source": [
    "C = [[i for i in range(1,5)] for j in range(1,5)]\n",
    "D = [[i for i in range(1,5)] for j in range(1,5)]"
   ]
  },
  {
   "cell_type": "code",
   "execution_count": 20,
   "metadata": {},
   "outputs": [
    {
     "name": "stdout",
     "output_type": "stream",
     "text": [
      "p1:  [[100]]\n",
      "p2:  [[40]]\n",
      "p3:  [[0]]\n",
      "p4:  [[0]]\n",
      "p5:  [[60]]\n",
      "p6:  [[0]]\n",
      "p7:  [[0]]\n",
      "c11:  [[40]]\n",
      "c12:  [[60]]\n",
      "c21:  [[40]]\n",
      "c22;  [[60]]\n",
      "p1:  [[40 60]\n",
      " [40 60]]\n",
      "p1:  [[30]]\n",
      "p2:  [[10]]\n",
      "p3:  [[0]]\n",
      "p4:  [[0]]\n",
      "p5:  [[20]]\n",
      "p6:  [[0]]\n",
      "p7:  [[0]]\n",
      "c11:  [[10]]\n",
      "c12:  [[20]]\n",
      "c21:  [[10]]\n",
      "c22;  [[20]]\n",
      "p2:  [[10 20]\n",
      " [10 20]]\n",
      "p1:  [[0]]\n",
      "p2:  [[0]]\n",
      "p3:  [[0]]\n",
      "p4:  [[0]]\n",
      "p5:  [[0]]\n",
      "p6:  [[0]]\n",
      "p7:  [[0]]\n",
      "c11:  [[0]]\n",
      "c12:  [[0]]\n",
      "c21:  [[0]]\n",
      "c22;  [[0]]\n",
      "p3:  [[0 0]\n",
      " [0 0]]\n",
      "p1:  [[0]]\n",
      "p2:  [[0]]\n",
      "p3:  [[0]]\n",
      "p4:  [[0]]\n",
      "p5:  [[0]]\n",
      "p6:  [[0]]\n",
      "p7:  [[0]]\n",
      "c11:  [[0]]\n",
      "c12:  [[0]]\n",
      "c21:  [[0]]\n",
      "c22;  [[0]]\n",
      "p4:  [[0 0]\n",
      " [0 0]]\n",
      "p1:  [[70]]\n",
      "p2:  [[30]]\n",
      "p3:  [[0]]\n",
      "p4:  [[0]]\n",
      "p5:  [[40]]\n",
      "p6:  [[0]]\n",
      "p7:  [[0]]\n",
      "c11:  [[30]]\n",
      "c12:  [[40]]\n",
      "c21:  [[30]]\n",
      "c22;  [[40]]\n",
      "p5:  [[30 40]\n",
      " [30 40]]\n",
      "p1:  [[0]]\n",
      "p2:  [[0]]\n",
      "p3:  [[0]]\n",
      "p4:  [[0]]\n",
      "p5:  [[0]]\n",
      "p6:  [[0]]\n",
      "p7:  [[0]]\n",
      "c11:  [[0]]\n",
      "c12:  [[0]]\n",
      "c21:  [[0]]\n",
      "c22;  [[0]]\n",
      "p6:  [[0 0]\n",
      " [0 0]]\n",
      "p1:  [[0]]\n",
      "p2:  [[0]]\n",
      "p3:  [[0]]\n",
      "p4:  [[0]]\n",
      "p5:  [[0]]\n",
      "p6:  [[0]]\n",
      "p7:  [[0]]\n",
      "c11:  [[0]]\n",
      "c12:  [[0]]\n",
      "c21:  [[0]]\n",
      "c22;  [[0]]\n",
      "p7:  [[0 0]\n",
      " [0 0]]\n",
      "c11:  [[10 20]\n",
      " [10 20]]\n",
      "c12:  [[30 40]\n",
      " [30 40]]\n",
      "c21:  [[10 20]\n",
      " [10 20]]\n",
      "c22;  [[30 40]\n",
      " [30 40]]\n"
     ]
    },
    {
     "data": {
      "text/plain": [
       "matrix([[10, 20, 30, 40],\n",
       "        [10, 20, 30, 40],\n",
       "        [10, 20, 30, 40],\n",
       "        [10, 20, 30, 40]])"
      ]
     },
     "execution_count": 20,
     "metadata": {},
     "output_type": "execute_result"
    }
   ],
   "source": [
    "strassen(C,D)"
   ]
  },
  {
   "cell_type": "code",
   "execution_count": 21,
   "metadata": {},
   "outputs": [],
   "source": [
    "A = [[12, 7, 3,1], [4, 5, 6,1], [7, 8, 9,1],[1,2,3,4]] \n",
    " \n",
    "B = [[5, 8, 1, 2], [6, 7, 3, 0], [4, 5, 9, 1],[1,2,3,4]] "
   ]
  },
  {
   "cell_type": "code",
   "execution_count": 22,
   "metadata": {},
   "outputs": [
    {
     "name": "stdout",
     "output_type": "stream",
     "text": [
      "p1:  [[750]]\n",
      "p2:  [[224]]\n",
      "p3:  [[-42]]\n",
      "p4:  [[-45]]\n",
      "p5:  [[319]]\n",
      "p6:  [[-322]]\n",
      "p7:  [[-20]]\n",
      "c11:  [[366]]\n",
      "c12:  [[277]]\n",
      "c21:  [[179]]\n",
      "c22;  [[162]]\n",
      "p1:  [[366 277]\n",
      " [179 162]]\n",
      "p1:  [[264]]\n",
      "p2:  [[50]]\n",
      "p3:  [[16]]\n",
      "p4:  [[6]]\n",
      "p5:  [[175]]\n",
      "p6:  [[-156]]\n",
      "p7:  [[39]]\n",
      "c11:  [[134]]\n",
      "c12:  [[191]]\n",
      "c21:  [[56]]\n",
      "c22;  [[74]]\n",
      "p2:  [[134 191]\n",
      " [ 56  74]]\n",
      "p1:  [[-204]]\n",
      "p2:  [[-72]]\n",
      "p3:  [[60]]\n",
      "p4:  [[40]]\n",
      "p5:  [[-76]]\n",
      "p6:  [[56]]\n",
      "p7:  [[-8]]\n",
      "c11:  [[-96]]\n",
      "c12:  [[-16]]\n",
      "c21:  [[-32]]\n",
      "c22;  [[-16]]\n",
      "p3:  [[-96 -16]\n",
      " [-32 -16]]\n",
      "p1:  [[-78]]\n",
      "p2:  [[-7]]\n",
      "p3:  [[18]]\n",
      "p4:  [[-16]]\n",
      "p5:  [[-50]]\n",
      "p6:  [[24]]\n",
      "p7:  [[30]]\n",
      "c11:  [[-14]]\n",
      "c12:  [[-32]]\n",
      "c21:  [[-23]]\n",
      "c22;  [[-29]]\n",
      "p4:  [[-14 -32]\n",
      " [-23 -29]]\n",
      "p1:  [[273]]\n",
      "p2:  [[144]]\n",
      "p3:  [[-45]]\n",
      "p4:  [[-36]]\n",
      "p5:  [[92]]\n",
      "p6:  [[-50]]\n",
      "p7:  [[14]]\n",
      "c11:  [[159]]\n",
      "c12:  [[47]]\n",
      "c21:  [[108]]\n",
      "c22;  [[34]]\n",
      "p5:  [[159  47]\n",
      " [108  34]]\n",
      "p1:  [[-104]]\n",
      "p2:  [[-36]]\n",
      "p3:  [[-15]]\n",
      "p4:  [[-9]]\n",
      "p5:  [[-28]]\n",
      "p6:  [[32]]\n",
      "p7:  [[64]]\n",
      "c11:  [[-21]]\n",
      "c12:  [[-43]]\n",
      "c21:  [[-45]]\n",
      "c22;  [[-51]]\n",
      "p6:  [[-21 -43]\n",
      " [-45 -51]]\n",
      "p1:  [[-171]]\n",
      "p2:  [[0]]\n",
      "p3:  [[0]]\n",
      "p4:  [[27]]\n",
      "p5:  [[-36]]\n",
      "p6:  [[171]]\n",
      "p7:  [[30]]\n",
      "c11:  [[-78]]\n",
      "c12:  [[-36]]\n",
      "c21:  [[27]]\n",
      "c22;  [[0]]\n",
      "p7:  [[-78 -36]\n",
      " [ 27   0]]\n",
      "c11:  [[115 162]\n",
      " [ 75  99]]\n",
      "c12:  [[63 31]\n",
      " [76 18]]\n",
      "c21:  [[120 159]\n",
      " [ 33  45]]\n",
      "c22;  [[115  27]\n",
      " [ 46  21]]\n"
     ]
    },
    {
     "data": {
      "text/plain": [
       "matrix([[115, 162,  63,  31],\n",
       "        [ 75,  99,  76,  18],\n",
       "        [120, 159, 115,  27],\n",
       "        [ 33,  45,  46,  21]])"
      ]
     },
     "execution_count": 22,
     "metadata": {},
     "output_type": "execute_result"
    }
   ],
   "source": [
    "strassen(A,B)"
   ]
  },
  {
   "cell_type": "markdown",
   "metadata": {},
   "source": [
    "### Running time (proof)"
   ]
  },
  {
   "cell_type": "markdown",
   "metadata": {},
   "source": [
    "As we can see there are 7 recursion and each one has an input n/2 and getting the sub-matrix together takes n* n, getting the submatrix together takes n^2 due to to do this the algorithm goes through an array of 2-D and each dimensions takes n times"
   ]
  },
  {
   "cell_type": "markdown",
   "metadata": {},
   "source": [
    "<img src=\"imagenes/strassen.jpg\">"
   ]
  },
  {
   "cell_type": "markdown",
   "metadata": {},
   "source": [
    "## Maximum- sub array problem"
   ]
  },
  {
   "cell_type": "markdown",
   "metadata": {},
   "source": [
    "### pseudocode"
   ]
  },
  {
   "cell_type": "markdown",
   "metadata": {},
   "source": [
    "```\n",
    "MaxSumCrossingMid(Array, lower, middle, upper)\n",
    "    //let us define left_sum and right_sum as the lowest negative integer and sum equal to 0\n",
    "    \n",
    "   for j = mid to lower-1 do //going in decreasing order\n",
    "       suma = suma + A[j]\n",
    "       \n",
    "       if suma >= left sum then\n",
    "           left_sum = suma\n",
    "           \n",
    "           \n",
    "   suma = 0\n",
    "   \n",
    "   for j = mid+1 to upper+1 do //\n",
    "       suma = suma + A[j]\n",
    "       \n",
    "       if suma >= right sum then\n",
    "           right_sum = suma\n",
    "           \n",
    "           \n",
    "   return right_sum + left_sum\n",
    "        \n",
    "       \n",
    "       \n",
    "       \n",
    "       \n",
    "       \n",
    "\n",
    "MaxSumSubArray(Array, lower, upper):\n",
    "    //lower is the lower bound and upper is the upper bound\n",
    "    if lower = upper then\n",
    "        return Array[lower]\n",
    "        \n",
    "    else\n",
    "        middle = (lower + upper) / 2 //being middle an int, if it is a float we round up to the closest integer\n",
    "        \n",
    "        maximo = max(MaxSumSubArray(Array,lower, middle), MaxSumSubArray(A, middle+1, upper), MaxSumCrossingMid(Array, lower, middle, upper))\n",
    "        \n",
    "        return maximo\n",
    "        \n",
    "\n",
    "```"
   ]
  },
  {
   "cell_type": "markdown",
   "metadata": {},
   "source": [
    "### Code and instances"
   ]
  },
  {
   "cell_type": "code",
   "execution_count": 13,
   "metadata": {},
   "outputs": [],
   "source": [
    "def MaxSumArray(A, lower, upper):\n",
    "    \"\"\"\n",
    "    A is the array\n",
    "    the function return the maximum sum\n",
    "    \"\"\"\n",
    "    if lower == upper:\n",
    "        return A[lower]\n",
    "    \n",
    "    mid = (lower+upper)//2\n",
    "    \n",
    "    return max(MaxSumArray(A,lower,mid),MaxSumArray(A,mid+1,upper),MaxCrossMid(A,lower,mid,upper))\n",
    "    \n",
    "def MaxCrossMid(A, lower, mid,upper):\n",
    "    \"\"\"\n",
    "    Function to get the max crossing sum having the middle\n",
    "    \"\"\"\n",
    "    suma = 0\n",
    "    suma2 = float(\"-inf\")\n",
    "    suma3 = float(\"-inf\")\n",
    "    \n",
    "    for j in range(mid, lower-1,-1):\n",
    "        suma += A[j]\n",
    "        \n",
    "        if suma > suma2:\n",
    "            suma2 = suma\n",
    "    \n",
    "    suma = 0\n",
    "    for j in range(mid+1, upper+1):\n",
    "        suma += A[j]\n",
    "        \n",
    "        if suma > suma3:\n",
    "            suma3 = suma\n",
    "            \n",
    "    return suma2 + suma3"
   ]
  },
  {
   "cell_type": "code",
   "execution_count": 14,
   "metadata": {},
   "outputs": [
    {
     "data": {
      "text/plain": [
       "21"
      ]
     },
     "execution_count": 14,
     "metadata": {},
     "output_type": "execute_result"
    }
   ],
   "source": [
    "arr = [2, 3, 4, 5, 7] \n",
    "\n",
    "MaxSumArray(arr,0,len(arr)-1)"
   ]
  },
  {
   "cell_type": "markdown",
   "metadata": {},
   "source": [
    "### Running time (Proof)"
   ]
  },
  {
   "cell_type": "markdown",
   "metadata": {},
   "source": [
    "As you can see in the algorith there is two recursive call and each one is n/2 and conquering takes n times since we go through all the elements of the array"
   ]
  },
  {
   "cell_type": "markdown",
   "metadata": {},
   "source": [
    "<img src = \"imagenes/subarray.jpg\" >"
   ]
  },
  {
   "cell_type": "markdown",
   "metadata": {},
   "source": [
    "# Dynamic programming"
   ]
  },
  {
   "cell_type": "markdown",
   "metadata": {},
   "source": [
    "## Coin row-Problem"
   ]
  },
  {
   "cell_type": "markdown",
   "metadata": {},
   "source": [
    "### Pseudocode"
   ]
  },
  {
   "cell_type": "markdown",
   "metadata": {},
   "source": [
    "<img src = \"imagenes/coin-rowpseudo.jpg\">"
   ]
  },
  {
   "cell_type": "markdown",
   "metadata": {},
   "source": [
    "### Code and instances"
   ]
  },
  {
   "cell_type": "code",
   "execution_count": 5,
   "metadata": {},
   "outputs": [],
   "source": [
    "def CoinRow(C):\n",
    "    size = len(C)\n",
    "    #auxiliar array\n",
    "    f = [0 for i in range(size+1)]\n",
    "    #getting just one coin\n",
    "    f[1] = 1\n",
    "    #inserting into C the number 0\n",
    "    C.insert(0,0)\n",
    "    #dynamic solution, where the coins are taken\n",
    "    for i in range(1,size+1):\n",
    "        f[i] = max(C[i]+f[i-2],f[i-1])\n",
    "        print(\"F[\",i,\"] => max( \", C[i]+f[i-2],\",\",f[i-1], \") F[\", i,\"] = \", f[i])\n",
    "    \n",
    "    print(f)\n",
    "    return f[size]"
   ]
  },
  {
   "cell_type": "code",
   "execution_count": 6,
   "metadata": {},
   "outputs": [
    {
     "name": "stdout",
     "output_type": "stream",
     "text": [
      "F[ 1 ] => max(  5 , 0 ) F[ 1 ] =  5\n",
      "F[ 2 ] => max(  22 , 5 ) F[ 2 ] =  22\n",
      "F[ 3 ] => max(  31 , 22 ) F[ 3 ] =  31\n",
      "F[ 4 ] => max(  32 , 31 ) F[ 4 ] =  32\n",
      "F[ 5 ] => max(  35 , 32 ) F[ 5 ] =  35\n",
      "F[ 6 ] => max(  40 , 35 ) F[ 6 ] =  40\n",
      "[0, 5, 22, 31, 32, 35, 40]\n"
     ]
    },
    {
     "data": {
      "text/plain": [
       "40"
      ]
     },
     "execution_count": 6,
     "metadata": {},
     "output_type": "execute_result"
    }
   ],
   "source": [
    "coins = [5,22,26,10,4,8]\n",
    "CoinRow(coins)"
   ]
  },
  {
   "cell_type": "code",
   "execution_count": 7,
   "metadata": {},
   "outputs": [
    {
     "name": "stdout",
     "output_type": "stream",
     "text": [
      "F[ 1 ] => max(  5 , 0 ) F[ 1 ] =  5\n",
      "F[ 2 ] => max(  1 , 5 ) F[ 2 ] =  5\n",
      "F[ 3 ] => max(  7 , 5 ) F[ 3 ] =  7\n",
      "F[ 4 ] => max(  15 , 7 ) F[ 4 ] =  15\n",
      "F[ 5 ] => max(  13 , 15 ) F[ 5 ] =  15\n",
      "F[ 6 ] => max(  17 , 15 ) F[ 6 ] =  17\n",
      "[0, 5, 5, 7, 15, 15, 17]\n"
     ]
    },
    {
     "data": {
      "text/plain": [
       "17"
      ]
     },
     "execution_count": 7,
     "metadata": {},
     "output_type": "execute_result"
    }
   ],
   "source": [
    "coins2 = [5,1,2,10,6,2]\n",
    "CoinRow(coins2)"
   ]
  },
  {
   "cell_type": "code",
   "execution_count": 8,
   "metadata": {},
   "outputs": [
    {
     "name": "stdout",
     "output_type": "stream",
     "text": [
      "F[ 1 ] => max(  5 , 0 ) F[ 1 ] =  5\n",
      "F[ 2 ] => max(  22 , 5 ) F[ 2 ] =  22\n",
      "F[ 3 ] => max(  31 , 22 ) F[ 3 ] =  31\n",
      "F[ 4 ] => max(  37 , 31 ) F[ 4 ] =  37\n",
      "F[ 5 ] => max(  35 , 37 ) F[ 5 ] =  37\n",
      "F[ 6 ] => max(  40 , 37 ) F[ 6 ] =  40\n",
      "F[ 7 ] => max(  48 , 40 ) F[ 7 ] =  48\n",
      "[0, 5, 22, 31, 37, 37, 40, 48]\n"
     ]
    },
    {
     "data": {
      "text/plain": [
       "48"
      ]
     },
     "execution_count": 8,
     "metadata": {},
     "output_type": "execute_result"
    }
   ],
   "source": [
    "coins3 = [5, 22, 26, 15, 4, 3,11]\n",
    "CoinRow(coins3)"
   ]
  },
  {
   "cell_type": "markdown",
   "metadata": {},
   "source": [
    "### Running time (proof)"
   ]
  },
  {
   "cell_type": "markdown",
   "metadata": {},
   "source": [
    "As you can see the highest cost is in the loop. And its time of the loop is n, hence the time complexity is"
   ]
  },
  {
   "cell_type": "markdown",
   "metadata": {},
   "source": [
    "<img src = \"imagenes/coin-row.jpg\">"
   ]
  },
  {
   "cell_type": "markdown",
   "metadata": {},
   "source": [
    "## Change Making"
   ]
  },
  {
   "cell_type": "markdown",
   "metadata": {},
   "source": [
    "### Pseudocode"
   ]
  },
  {
   "cell_type": "markdown",
   "metadata": {},
   "source": [
    "<img src = \"imagenes/makingpseu.jpg\">\n",
    "from http://www.ccs.neu.edu/home/jaa/CS7800.12F/Information/Handouts/dyn_prog.pdf"
   ]
  },
  {
   "cell_type": "markdown",
   "metadata": {},
   "source": [
    "### Code and instances"
   ]
  },
  {
   "cell_type": "code",
   "execution_count": 19,
   "metadata": {},
   "outputs": [],
   "source": [
    "def change(denominations, amount):\n",
    "    \"\"\"\n",
    "    denominations is the denominations and amount is the amount of money\n",
    "    \"\"\"\n",
    "    NCoins = len(denominations)\n",
    "    \n",
    "    #auxiliar 2-D array\n",
    "    aux = [[0 for i in range(amount+1)] for j in range(NCoins+1)] \n",
    "    \n",
    "    #the case where there is no coin, when the denominations are bigger than the amount\n",
    "    for j in range(amount+1):\n",
    "        aux[0][j] = float(\"inf\")\n",
    "        \n",
    "    #i is the number of coins being used\n",
    "    for i in range(1,NCoins+1):\n",
    "        #j is the amount whose change is required\n",
    "        for j in range(1, amount+1):\n",
    "            if j >= denominations[i-1]:\n",
    "                aux[i][j] = min(aux[i-1][j],(1+aux[i][j-denominations[i-1]]))\n",
    "            else:\n",
    "                aux[i][j] = aux[i-1][j]\n",
    "                \n",
    "    return aux[NCoins][amount]"
   ]
  },
  {
   "cell_type": "code",
   "execution_count": 20,
   "metadata": {},
   "outputs": [
    {
     "data": {
      "text/plain": [
       "2"
      ]
     },
     "execution_count": 20,
     "metadata": {},
     "output_type": "execute_result"
    }
   ],
   "source": [
    "array = [1,5,6,8]\n",
    "change(array,11)"
   ]
  },
  {
   "cell_type": "code",
   "execution_count": 21,
   "metadata": {},
   "outputs": [
    {
     "data": {
      "text/plain": [
       "3"
      ]
     },
     "execution_count": 21,
     "metadata": {},
     "output_type": "execute_result"
    }
   ],
   "source": [
    "array2 = [1,5,10,25]\n",
    "change(array2,31)"
   ]
  },
  {
   "cell_type": "code",
   "execution_count": 22,
   "metadata": {},
   "outputs": [
    {
     "data": {
      "text/plain": [
       "4"
      ]
     },
     "execution_count": 22,
     "metadata": {},
     "output_type": "execute_result"
    }
   ],
   "source": [
    "array2 = [1,5,12,25]\n",
    "change(array2,16)"
   ]
  },
  {
   "cell_type": "markdown",
   "metadata": {},
   "source": [
    "### Running time (proof)"
   ]
  },
  {
   "cell_type": "markdown",
   "metadata": {},
   "source": [
    "As we can see the highest order are the loops and there is two nested loops, however, one is cost n and the other one within n is cost m, hence the time complexity is  "
   ]
  },
  {
   "cell_type": "markdown",
   "metadata": {},
   "source": [
    "<img src = \"imagenes/changemaking.jpg\">"
   ]
  },
  {
   "cell_type": "markdown",
   "metadata": {},
   "source": [
    "## Coin collection"
   ]
  },
  {
   "cell_type": "markdown",
   "metadata": {},
   "source": [
    "### Pseudocode"
   ]
  },
  {
   "cell_type": "markdown",
   "metadata": {},
   "source": [
    "\n",
    "```\n",
    "for i ← 0 to n do\n",
    "        for j ← 0 to min(i,k) do\n",
    "          if j = 0 or j = i\n",
    "               if j = 0 or j = i\n",
    "                    C[i,j] ← 1\n",
    "          else C[i,j] ← c[i – 1, j – 1] + C[i – 1, j]\n",
    "return C[n,k]\n",
    "\n",
    "\n",
    "```"
   ]
  },
  {
   "cell_type": "markdown",
   "metadata": {},
   "source": [
    "### Code and instances"
   ]
  },
  {
   "cell_type": "code",
   "execution_count": 23,
   "metadata": {},
   "outputs": [],
   "source": [
    "def CreateMatriz(m,n):\n",
    "    m1=[]\n",
    "    for i in range(m+1):\n",
    "        m1.append([0]*(n+1))\n",
    "    return m1"
   ]
  },
  {
   "cell_type": "code",
   "execution_count": 24,
   "metadata": {},
   "outputs": [],
   "source": [
    "def coincollege(matrix, m, n):\n",
    "    matrix2 = CreateMatriz(m,n)\n",
    "    aux=[0]*(m+1)\n",
    "    temp = 0\n",
    "    for i in range(1,m+1):\n",
    "        for j in range(1,n+1):\n",
    "            if(matrix[i][j]!=-1):\n",
    "                temp = max(matrix2[i-1][j],matrix2[i][j-1]) + matrix[i][j]\n",
    "                matrix2[i][j]=temp\n",
    "            else:\n",
    "                aux[i] = j\n",
    "                if(i==1):\n",
    "                    for k in range(j,n+1):\n",
    "                        matrix[i][k]=0\n",
    "                if(j>=aux[i-1] and aux[i-1]!=0):\n",
    "                    for k in range(j, n+1):\n",
    "                        matrix[i][k]=0\n",
    "                if(j>=aux[i-1] and aux[i-1]==0):\n",
    "                    aux[i] = 0\n",
    "    return matrix2"
   ]
  },
  {
   "cell_type": "code",
   "execution_count": 25,
   "metadata": {},
   "outputs": [
    {
     "name": "stdin",
     "output_type": "stream",
     "text": [
      "Filas:  5\n",
      "Columnas:  6\n"
     ]
    },
    {
     "data": {
      "text/plain": [
       "[[0, 0, 0, 0, 0, 0, 0],\n",
       " [0, 0, 0, 0, 0, 1, 1],\n",
       " [0, 0, 1, 1, 2, 2, 2],\n",
       " [0, 0, 1, 1, 3, 3, 4],\n",
       " [0, 0, 1, 2, 3, 3, 5],\n",
       " [0, 1, 1, 2, 3, 4, 5]]"
      ]
     },
     "execution_count": 25,
     "metadata": {},
     "output_type": "execute_result"
    }
   ],
   "source": [
    "m = int(input(\"Filas: \"))\n",
    "n = int(input(\"Columnas: \"))\n",
    "f = [[0, 0, 0, 0, 0, 0, 0],\n",
    " [0, 0, 0, 0, 0, 1, 0],\n",
    " [0, 0, 1, 0, 1, 0, 0],\n",
    " [0, 0, 0, 0, 1, 0, 1],\n",
    " [0, 0, 0, 1, 0, 0, 1],\n",
    " [0, 1, 0, 0, 0, 1, 0]]\n",
    "\n",
    "\"\"\"f = CreateMatriz(m,n)\n",
    "for i in range(1,m+1):\n",
    "    for j in range(1,n+1):\n",
    "        f[i][j] = int(input())\"\"\"\n",
    "        \n",
    "coincollege(f, m, n)"
   ]
  },
  {
   "cell_type": "markdown",
   "metadata": {},
   "source": [
    "### Running time (proof)"
   ]
  },
  {
   "cell_type": "markdown",
   "metadata": {},
   "source": [
    "As it is easy to see the main loops depend on m and n, despite there is a third level nested loop, this one depends on n and goes from J (depends on m) up to n, hence and the end of all the loop we get n * m, and the two main loops are n + 1 and m + 1, the second one is inside the first one, hence it is (n+1) * (m+1), therefore from pseudocode"
   ]
  },
  {
   "cell_type": "markdown",
   "metadata": {},
   "source": [
    "$T(n) \\epsilon O(n * k)$"
   ]
  },
  {
   "cell_type": "markdown",
   "metadata": {},
   "source": [
    "## Rod cutting"
   ]
  },
  {
   "cell_type": "markdown",
   "metadata": {},
   "source": [
    "### Pseudocode"
   ]
  },
  {
   "cell_type": "markdown",
   "metadata": {},
   "source": [
    "```\n",
    "CutRoad(Price, size)\n",
    "//Price is the array to cut and size is the lenght of this array\n",
    "// let us create an array value that is fill it with only 0 and its length is size+1\n",
    "    for i = 1 to size do\n",
    "        for j = 0 to i do\n",
    "            maxvalue = max(maxvalue, price[j] + value[i-j-1])\n",
    "```"
   ]
  },
  {
   "cell_type": "markdown",
   "metadata": {},
   "source": [
    "### code and instances"
   ]
  },
  {
   "cell_type": "code",
   "execution_count": 26,
   "metadata": {},
   "outputs": [],
   "source": [
    "def display(arr, n):\n",
    "    \"\"\"\n",
    "    Function to display the cutting\n",
    "    \"\"\"\n",
    "    for j in arr:\n",
    "        if j != 0:\n",
    "            print(j, end = \" \")\n",
    "    print()\n",
    "def CutRoad(price, size = None):\n",
    "    #checking there is an array\n",
    "    if size is None:\n",
    "        size = len(price)\n",
    "    #auxiliar array\n",
    "    auxiliar = [0 for i in range(size+1)]\n",
    "    #making the dynamic oart\n",
    "    for i in range(1, size+1):\n",
    "        MAX = float(\"-inf\")\n",
    "        for j in range(0,i):\n",
    "            MAX = max(MAX, price[j]+auxiliar[i-j-1])\n",
    "        auxiliar[i] = MAX\n",
    "        display(auxiliar,i)\n",
    "        \n",
    "    i = size+1\n",
    "    display(auxiliar,i)\n",
    "    return auxiliar[i-1]\n",
    "    \n",
    "    "
   ]
  },
  {
   "cell_type": "code",
   "execution_count": 27,
   "metadata": {},
   "outputs": [
    {
     "name": "stdout",
     "output_type": "stream",
     "text": [
      "1 \n",
      "1 4 \n",
      "1 4 7 \n",
      "1 4 7 10 \n",
      "1 4 7 10 14 \n",
      "1 4 7 10 14 16 \n",
      "1 4 7 10 14 16 19 \n",
      "1 4 7 10 14 16 19 21 \n",
      "1 4 7 10 14 16 19 21 \n"
     ]
    },
    {
     "data": {
      "text/plain": [
       "21"
      ]
     },
     "execution_count": 27,
     "metadata": {},
     "output_type": "execute_result"
    }
   ],
   "source": [
    "cost1 = [1, 4, 7, 10, 14, 16, 19, 21] \n",
    "CutRoad(cost1)"
   ]
  },
  {
   "cell_type": "markdown",
   "metadata": {},
   "source": [
    "### Running time (proof)"
   ]
  },
  {
   "cell_type": "markdown",
   "metadata": {},
   "source": [
    "Since there is no recursion in the algorithm is easier to see the time complexity , as we can see there is a nested loop inside other one, but the second one depends on the first one since the the range of the second loops depends on i from the first loop, so the highest cost is in the second loop and it is a summation"
   ]
  },
  {
   "cell_type": "markdown",
   "metadata": {},
   "source": [
    "$ \\sum_{i=1}^{n} i = n * \\frac{n+1}{2} $"
   ]
  },
  {
   "cell_type": "markdown",
   "metadata": {},
   "source": [
    "And as you can from this summation the highest cost is $ n^2$"
   ]
  },
  {
   "cell_type": "markdown",
   "metadata": {},
   "source": [
    "<img src = \"imagenes/rodCut.jpg\">"
   ]
  },
  {
   "cell_type": "markdown",
   "metadata": {},
   "source": [
    "## Matrix chain multiplication"
   ]
  },
  {
   "cell_type": "markdown",
   "metadata": {},
   "source": [
    "### Pseudocode"
   ]
  },
  {
   "cell_type": "markdown",
   "metadata": {},
   "source": [
    "```\n",
    "MatrixChainMult(Array)\n",
    "//array that contains the matrixes and its size\n",
    "    n = Array.length\n",
    "    // let us create a 2-D matrix squared of size n where all the elements are 0\n",
    "    for l <- 2 to n do\n",
    "        for i <- 1 to n-l+1 do\n",
    "            j <- i + l - 1\n",
    "            m[i,j] <- inf\n",
    "            for k <- i to j-1 do\n",
    "                q <- m[i,k] + m[k+l,j]+Array[j-1]*Array[k]*Array[temp]\n",
    "                if q < m[i][j] then\n",
    "                    m[i,j] <- q\n",
    "                    s[i,k] <- k\n",
    "    return m and s\n",
    "\n",
    "```"
   ]
  },
  {
   "cell_type": "markdown",
   "metadata": {},
   "source": [
    "### Code and instances"
   ]
  },
  {
   "cell_type": "code",
   "execution_count": 28,
   "metadata": {},
   "outputs": [],
   "source": [
    "def MatrixChainMult(Array,size = None):\n",
    "    if size is None:\n",
    "        size = len(Array)\n",
    "        #auxiliar function\n",
    "    memory = [[0 for i in range(size)] for j in range(size)]\n",
    "    \n",
    "    for i in range(2, size):\n",
    "        for j in range(1, size-i+1):\n",
    "            temp = j+i -1\n",
    "            memory[j][temp] = float(\"inf\")\n",
    "            for k in range(j,temp):\n",
    "                q = memory[j][k]+memory[k+1][temp] + Array[j-1]*Array[k]*Array[temp]\n",
    "                \n",
    "                if q < memory[j][temp]:\n",
    "                    memory[j][temp] = q\n",
    "                    \n",
    "    return memory[1][size-1]"
   ]
  },
  {
   "cell_type": "code",
   "execution_count": 29,
   "metadata": {},
   "outputs": [
    {
     "data": {
      "text/plain": [
       "18"
      ]
     },
     "execution_count": 29,
     "metadata": {},
     "output_type": "execute_result"
    }
   ],
   "source": [
    "arr = list(range(1,5))\n",
    "MatrixChainMult(arr)"
   ]
  },
  {
   "cell_type": "code",
   "execution_count": 30,
   "metadata": {},
   "outputs": [
    {
     "data": {
      "text/plain": [
       "19000"
      ]
     },
     "execution_count": 30,
     "metadata": {},
     "output_type": "execute_result"
    }
   ],
   "source": [
    "arr1 = [40,10,40,10,30]\n",
    "MatrixChainMult(arr1)"
   ]
  },
  {
   "cell_type": "markdown",
   "metadata": {},
   "source": [
    "### Running time (proof)"
   ]
  },
  {
   "cell_type": "markdown",
   "metadata": {},
   "source": [
    "Since there are three nested loops we can easily see that the time complexity is "
   ]
  },
  {
   "cell_type": "markdown",
   "metadata": {},
   "source": [
    "<img src = \"imagenes/MatrixChainMult.jpg\">"
   ]
  },
  {
   "cell_type": "markdown",
   "metadata": {},
   "source": [
    "## Longest common subsequence"
   ]
  },
  {
   "cell_type": "markdown",
   "metadata": {},
   "source": [
    "### Pseudocode"
   ]
  },
  {
   "cell_type": "markdown",
   "metadata": {},
   "source": [
    "<img src = \"imagenes/longestpse.jpg\">"
   ]
  },
  {
   "cell_type": "markdown",
   "metadata": {},
   "source": [
    "### Code and instances"
   ]
  },
  {
   "cell_type": "markdown",
   "metadata": {},
   "source": [
    "The code is the most similar to the pseudo since I had to make some little changes, because it did not work :("
   ]
  },
  {
   "cell_type": "code",
   "execution_count": 77,
   "metadata": {},
   "outputs": [],
   "source": [
    "def LCSLength(X,Y):\n",
    "    m = len(X)\n",
    "    n = len(Y)\n",
    "    #array to save the matrix of how much long is the sub sequence\n",
    "    c = [[0 for i in range(n+1)] for j in range(0,m+1)]\n",
    "    #array to save how get backtracking\n",
    "    b = [[0 for i in range(n+1)] for j in range(0,m+1)]\n",
    "    \n",
    "    for i in range(0,m+1):\n",
    "        for j in range(0,n+1):\n",
    "            #base case\n",
    "            if i == 0 or j == 0:\n",
    "                c[i][j] = 0\n",
    "            #there is a letter match\n",
    "            elif X[i-1] == Y[j-1]:\n",
    "                c[i][j] = c[i-1][j-1]+ 1\n",
    "                b[i][j] = \"diagonal\"\n",
    "            #looking for the minimum where there is not a letter match\n",
    "            elif c[i-1][j] >= c[i][j-1]:\n",
    "                c[i][j] = c[i-1][j]\n",
    "                b[i][j] = \"upwards\"\n",
    "            else:\n",
    "                c[i][j] = c[i][j-1]\n",
    "                b[i][j] = \"<-\"\n",
    "    print(\"The mamimum sub sequence is: \",c[m][n])\n",
    "    return c,b"
   ]
  },
  {
   "cell_type": "code",
   "execution_count": 78,
   "metadata": {},
   "outputs": [],
   "source": [
    "def printLCS(b, x, i, j):\n",
    "    if i == 0 or j == 0:\n",
    "        return\n",
    "    if b[i][j] == 'diagonal':\n",
    "        printLCS(b,x, i-1,j-1)\n",
    "        print(x[i-1], end = \" \")\n",
    "    elif b[i][j] == 'upwards':\n",
    "        printLCS(b,x, i-1,j)\n",
    "    else:\n",
    "        printLCS(b,x, i,j-1)"
   ]
  },
  {
   "cell_type": "code",
   "execution_count": 79,
   "metadata": {},
   "outputs": [
    {
     "name": "stdout",
     "output_type": "stream",
     "text": [
      "The mamimum sub sequence is:  4\n"
     ]
    }
   ],
   "source": [
    "X = \"AGGTAB\"\n",
    "Y = \"ATGAB\"\n",
    "C,B = LCSLength(X,Y)"
   ]
  },
  {
   "cell_type": "code",
   "execution_count": 80,
   "metadata": {},
   "outputs": [
    {
     "name": "stdout",
     "output_type": "stream",
     "text": [
      "A G A B "
     ]
    }
   ],
   "source": [
    "printLCS(B, X, len(X), len(Y))"
   ]
  },
  {
   "cell_type": "code",
   "execution_count": 81,
   "metadata": {},
   "outputs": [
    {
     "name": "stdout",
     "output_type": "stream",
     "text": [
      "The mamimum sub sequence is:  6\n"
     ]
    }
   ],
   "source": [
    "X = \"DVRIDJYNFITEGR\"\n",
    "Y = \"DLTIDWZDOILEMPR\"\n",
    "C,B = LCSLength(X,Y)"
   ]
  },
  {
   "cell_type": "code",
   "execution_count": 82,
   "metadata": {},
   "outputs": [
    {
     "name": "stdout",
     "output_type": "stream",
     "text": [
      "D I D I E R "
     ]
    }
   ],
   "source": [
    "printLCS(B, X, len(X), len(Y))"
   ]
  },
  {
   "cell_type": "markdown",
   "metadata": {},
   "source": [
    "### Running time (proof)"
   ]
  },
  {
   "cell_type": "markdown",
   "metadata": {},
   "source": [
    "Since there is a loop of cost m and within a loop of cost n, this cost multiply between them, hence the time complexity is"
   ]
  },
  {
   "cell_type": "markdown",
   "metadata": {},
   "source": [
    "<img src = \"imagenes/longest.jpg\">"
   ]
  },
  {
   "cell_type": "markdown",
   "metadata": {},
   "source": [
    "# Greddy programming"
   ]
  },
  {
   "cell_type": "markdown",
   "metadata": {},
   "source": [
    "## Activity selection"
   ]
  },
  {
   "cell_type": "markdown",
   "metadata": {},
   "source": [
    "### Pseudocode"
   ]
  },
  {
   "cell_type": "markdown",
   "metadata": {},
   "source": [
    "<img src = \"imagenes/activitypse.jpg\">"
   ]
  },
  {
   "cell_type": "markdown",
   "metadata": {},
   "source": [
    "### Code and instances"
   ]
  },
  {
   "cell_type": "code",
   "execution_count": 33,
   "metadata": {},
   "outputs": [],
   "source": [
    "def sorts(s,f):\n",
    "    lista = list(zip(s,f))\n",
    "    lista.sort(key=lambda lista: lista[1])\n",
    "    s = [x[0] for x in lista]\n",
    "    f = [x[1] for x in lista]\n",
    "    \n",
    "    return s,f\n",
    "\n",
    "def ActivitySelector(s, f):\n",
    "    n = len(s)\n",
    "    A = [0]\n",
    "    k = 0\n",
    "    #sorting part\n",
    "    s,f = sorts(s,f)\n",
    "    print(\"inicio =>\",s[0],\" fin => \",f[0],\" #actividad => \",0)\n",
    "    for m in range(1, n):\n",
    "        if s[m] >= f[k]:\n",
    "            print(\"inicio =>\",s[m],\" fin => \",f[m],\" #actividad => \",m)\n",
    "            A.append(m)\n",
    "            k = m\n",
    "    return A"
   ]
  },
  {
   "cell_type": "code",
   "execution_count": 34,
   "metadata": {},
   "outputs": [
    {
     "name": "stdout",
     "output_type": "stream",
     "text": [
      "inicio => 1  fin =>  2  #actividad =>  0\n",
      "inicio => 3  fin =>  4  #actividad =>  1\n",
      "inicio => 5  fin =>  7  #actividad =>  3\n",
      "inicio => 8  fin =>  9  #actividad =>  5\n"
     ]
    },
    {
     "data": {
      "text/plain": [
       "[0, 1, 3, 5]"
      ]
     },
     "execution_count": 34,
     "metadata": {},
     "output_type": "execute_result"
    }
   ],
   "source": [
    "s = [1, 3, 0, 5, 8, 5]\n",
    "#f = [2, 4, 6, 7, 9, 9]\n",
    "s = [5, 8, 5, 0, 3, 1]\n",
    "f = [9, 9, 7, 6, 4, 2]\n",
    "\n",
    "ActivitySelector(s, f)\n",
    "#start[]  =  {1, 3, 0, 5, 8, 5};\n",
    "#finish[] =  {2, 4, 6, 7, 9, 9};"
   ]
  },
  {
   "cell_type": "markdown",
   "metadata": {},
   "source": [
    "### Running time (proof)"
   ]
  },
  {
   "cell_type": "markdown",
   "metadata": {},
   "source": [
    "As it is easy to see the loop cost is only n. Hence, if there is only that loop the cost will be O(n), but we need to consider that in some cases we need to sort the activities, therefore using any algorithm sort, if we used the lowest one its cost is n log n\n",
    "Therefore"
   ]
  },
  {
   "cell_type": "markdown",
   "metadata": {},
   "source": [
    "<img src = \"imagenes/activityselection.jpg\">"
   ]
  },
  {
   "cell_type": "markdown",
   "metadata": {},
   "source": [
    "## Fractional Knapsack problem"
   ]
  },
  {
   "cell_type": "markdown",
   "metadata": {},
   "source": [
    "### Pseudocode"
   ]
  },
  {
   "cell_type": "markdown",
   "metadata": {},
   "source": [
    "\n",
    "```\n",
    "Fractional Knapsack (Array W, Array V, int M)\n",
    "1. for i <- 1 to size (V)\n",
    "2. \tcalculate cost[i] <- V[i] / W[i]\n",
    "3. Sort-Descending (cost)\n",
    "4. i ← 1\n",
    "5. while (i <= size(V))\n",
    "6. \tif  W[i] <= M \n",
    "7.\t\tM ← M – W[i]\n",
    "8.\t\ttotal ← total + V[i];\n",
    "9. \tif  W[i] > M\n",
    "10. \t\ti ← i+1\n",
    "```"
   ]
  },
  {
   "cell_type": "markdown",
   "metadata": {},
   "source": [
    "### Code and instances"
   ]
  },
  {
   "cell_type": "code",
   "execution_count": 49,
   "metadata": {},
   "outputs": [],
   "source": [
    "def FractionalKnapsack(Matriz, M):\n",
    "    total = 0\n",
    "    for i in range(len(V)):\n",
    "        Matriz[i].append(Matriz[i][1]/Matriz[i][0])\n",
    "    Matriz = [tuple(x) for x in Matriz]\n",
    "    Matriz.sort(key=lambda Matriz: Matriz[2], reverse=True)\n",
    "    i = 0\n",
    "    print(len(Matriz))\n",
    "    while(i<len(Matriz)):\n",
    "        if Matriz[i][0] < M:\n",
    "            print(\"Pack \", i, \" - Weight \", Matriz[i][0], \" - Value \", Matriz[i][1])\n",
    "            M = M - Matriz[i][0]\n",
    "            total = total + Matriz[i][1]\n",
    "        if Matriz[i][0] > M:\n",
    "            i = i+1\n",
    "            \n",
    "    print(\"Total\", total)"
   ]
  },
  {
   "cell_type": "code",
   "execution_count": 51,
   "metadata": {},
   "outputs": [
    {
     "name": "stdout",
     "output_type": "stream",
     "text": [
      "[[15, 30], [10, 25], [2, 2], [4, 6]]\n",
      "4\n",
      "Pack  0  - Weight  10  - Value  25\n",
      "Pack  0  - Weight  10  - Value  25\n",
      "Pack  0  - Weight  10  - Value  25\n",
      "Pack  2  - Weight  4  - Value  6\n",
      "Pack  3  - Weight  2  - Value  2\n",
      "Total 83\n"
     ]
    }
   ],
   "source": [
    "W = [15, 10, 2, 4] \n",
    "V = [30, 25, 2, 6] \n",
    "M = 37\n",
    "matriz = [[w,v] for w,v in zip(W,V)]\n",
    "print(matriz)\n",
    "FractionalKnapsack(matriz, M)"
   ]
  },
  {
   "cell_type": "markdown",
   "metadata": {},
   "source": [
    "### Running time (proof)"
   ]
  },
  {
   "cell_type": "markdown",
   "metadata": {},
   "source": [
    "And you can the cost of comparing is just n,however, this is not the main cost, since we have to sort the matrix first, considering we use the lowest cost of a sort algorithm, the cost is:"
   ]
  },
  {
   "cell_type": "markdown",
   "metadata": {},
   "source": [
    "$T(n) \\epsilon O(n \\log_{2} n) $"
   ]
  },
  {
   "cell_type": "markdown",
   "metadata": {},
   "source": [
    "## Interval graph coloring"
   ]
  },
  {
   "cell_type": "markdown",
   "metadata": {},
   "source": [
    "### Pseudocode"
   ]
  },
  {
   "cell_type": "markdown",
   "metadata": {},
   "source": [
    "<img src = \"imagenes/coloringp.jpg\">\n"
   ]
  },
  {
   "cell_type": "markdown",
   "metadata": {},
   "source": [
    "from http://eio.usc.es/pub/mte/descargas/ProyectosFinMaster/Proyecto_1463.pdf"
   ]
  },
  {
   "cell_type": "markdown",
   "metadata": {},
   "source": [
    "### Code and instances"
   ]
  },
  {
   "cell_type": "code",
   "execution_count": 1,
   "metadata": {},
   "outputs": [
    {
     "name": "stdout",
     "output_type": "stream",
     "text": [
      "{'c': 0}\n",
      "{'c': 0, 'a': 1}\n",
      "{'c': 0, 'a': 1, 'd': 2}\n",
      "{'c': 0, 'a': 1, 'd': 2, 'e': 1}\n",
      "{'c': 0, 'a': 1, 'd': 2, 'e': 1, 'b': 2}\n",
      "{'c': 0, 'a': 1, 'd': 2, 'e': 1, 'b': 2, 'f': 2}\n",
      "{'c': 0, 'a': 1, 'd': 2, 'e': 1, 'b': 2, 'f': 2}\n"
     ]
    }
   ],
   "source": [
    "def color_nodes(graph):\n",
    "    color_map = {}\n",
    "    # Consider nodes in descending degree \n",
    "    for node in sorted(graph, key=lambda x: len(graph[x]), reverse=True):\n",
    "        neighbor_colors = set(color_map.get(neigh) for neigh in graph[node])\n",
    "      \n",
    "        color_map[node] = next( \n",
    "            color for color in range(len(graph)) if color not in neighbor_colors\n",
    "        )\n",
    "        print(color_map)\n",
    "    return color_map\n",
    "\n",
    "graph = {\n",
    "    'a': list('bcd'),\n",
    "    'b': list('ac'),\n",
    "    'c': list('abdef'),\n",
    "    'd': list('ace'),\n",
    "    'e': list('cdf'),\n",
    "    'f': list('ce')\n",
    "  }\n",
    "\n",
    "print(color_nodes(graph))\n",
    "\n",
    "#    {\n",
    "#    'c': 0,\n",
    "#    'a': 1, \n",
    "#    'd': 2,\n",
    "#    'e': 1,\n",
    "#    'b': 2,\n",
    "#    'f': 2\n",
    "#    }\n"
   ]
  },
  {
   "cell_type": "markdown",
   "metadata": {},
   "source": [
    "Code based on https://codereview.stackexchange.com/questions/203319/greedy-graph-coloring-in-python"
   ]
  },
  {
   "cell_type": "markdown",
   "metadata": {},
   "source": [
    "### Running time (proof)"
   ]
  },
  {
   "cell_type": "markdown",
   "metadata": {},
   "source": [
    "Since each node when it is visited goes to visit each adjacent node to it and in the other nodes is the same, the cost of all this is $V^2 $ an the travel through edges cost $ E $, hence"
   ]
  },
  {
   "cell_type": "markdown",
   "metadata": {},
   "source": [
    "<img src = \"imagenes/coloring.jpg\" > "
   ]
  }
 ],
 "metadata": {
  "kernelspec": {
   "display_name": "Python 3",
   "language": "python",
   "name": "python3"
  },
  "language_info": {
   "codemirror_mode": {
    "name": "ipython",
    "version": 3
   },
   "file_extension": ".py",
   "mimetype": "text/x-python",
   "name": "python",
   "nbconvert_exporter": "python",
   "pygments_lexer": "ipython3",
   "version": "3.8.6"
  }
 },
 "nbformat": 4,
 "nbformat_minor": 4
}
